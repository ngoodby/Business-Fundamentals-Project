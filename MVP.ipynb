{
 "cells": [
  {
   "cell_type": "markdown",
   "id": "b02ae275-41ad-4548-b44e-36c0efe29706",
   "metadata": {},
   "source": [
    "# EV Charging Stations in Boulder, CO"
   ]
  },
  {
   "cell_type": "markdown",
   "id": "336ebb8b-9014-4072-8488-ccc317d8ffdd",
   "metadata": {},
   "source": [
    "#### Nat Goodby"
   ]
  },
  {
   "cell_type": "markdown",
   "id": "b717de77-d653-4aaa-be89-abef46bea449",
   "metadata": {},
   "source": [
    "## Opportunity and Desired Impact"
   ]
  },
  {
   "cell_type": "markdown",
   "id": "16d135a2-5160-4c18-bf6f-c4df4582fcd1",
   "metadata": {},
   "source": [
    "The City of Boulder operates 25 electic vehicle charging stations and they are interested in whether they are adequately meeting demand at each station. They are wondering if it would be worth adding plugs to any of the existing station locations and are additionally trying to prioritize the maintenance of the various stations. The number of visits to City operated stations has fluctuated greatly over the past few years, as seen below, which has called into question whether the city should continue to invest in EV charging infrastructure. This project will help them better understand station use to make decisions about investment in existing and proposed stations. "
   ]
  },
  {
   "cell_type": "markdown",
   "id": "2ad25dd6-cfce-46de-9582-4ad0dcff62b0",
   "metadata": {},
   "source": [
    "![](station_visits.png)"
   ]
  },
  {
   "cell_type": "markdown",
   "id": "342c99fe-9f4a-4a92-a55e-bc21f433f7c0",
   "metadata": {},
   "source": [
    "## Solution Path"
   ]
  },
  {
   "cell_type": "markdown",
   "id": "c8e62ba7-a3a2-4cf7-8dcc-9b16249f1215",
   "metadata": {},
   "source": [
    "Identify the most used city-operated charging stations by using the City's [data on EV charging station use](https://open-data.bouldercolorado.gov/datasets/183adc24880b41c4be9fd6a14eb6165f_0/explore). This data has been combined with [additional information](https://bouldercolorado.gov/services/electric-vehicle-charging-stations#section-8319) on whether the stations cost money to use and how many plugs are available at each station. Additionally, station addresses have been geocoded to allow for easy mapping and visualization of the data. An initial exploration of this data can be found [here](https://public.tableau.com/views/BoulderEVChargingStations/EnergyDistributed?:language=en-US&publish=yes&:display_count=n&:origin=viz_share_link). Next steps are to look at trends in station use of the most popular stations over time and think about whether these trends can be explained and anticipated in the future?"
   ]
  },
  {
   "cell_type": "markdown",
   "id": "820db617-3c4f-4d61-8bcc-08cb97cfc9d4",
   "metadata": {},
   "source": [
    "## Impact Hypothesis"
   ]
  },
  {
   "cell_type": "markdown",
   "id": "0a8df715-285a-4c7e-8d60-67ac091ceae9",
   "metadata": {},
   "source": [
    "Understanding which stations are most used (highest number of visits per time period and most charge distributed) will help the City make informed decisions about ongoing and proposed investment in city-operated charging stations. "
   ]
  }
 ],
 "metadata": {
  "kernelspec": {
   "display_name": "Python 3 (ipykernel)",
   "language": "python",
   "name": "python3"
  },
  "language_info": {
   "codemirror_mode": {
    "name": "ipython",
    "version": 3
   },
   "file_extension": ".py",
   "mimetype": "text/x-python",
   "name": "python",
   "nbconvert_exporter": "python",
   "pygments_lexer": "ipython3",
   "version": "3.9.10"
  },
  "toc-showcode": false,
  "toc-showmarkdowntxt": false
 },
 "nbformat": 4,
 "nbformat_minor": 5
}
