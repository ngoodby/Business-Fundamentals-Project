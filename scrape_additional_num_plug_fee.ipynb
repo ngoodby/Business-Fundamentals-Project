{
 "cells": [
  {
   "cell_type": "code",
   "execution_count": 19,
   "id": "6f6c4c1b",
   "metadata": {},
   "outputs": [],
   "source": [
    "import pandas as pd\n",
    "import numpy as np\n",
    "from bs4 import BeautifulSoup as bs\n",
    "import requests"
   ]
  },
  {
   "cell_type": "markdown",
   "id": "6e3fb46a",
   "metadata": {},
   "source": [
    "# Scrape data on number of plugs and fee at each station"
   ]
  },
  {
   "cell_type": "code",
   "execution_count": 20,
   "id": "d11cc734",
   "metadata": {},
   "outputs": [],
   "source": [
    "url = 'https://bouldercolorado.gov/services/electric-vehicle-charging-stations#section-8319'\n",
    "response = requests.get(url)"
   ]
  },
  {
   "cell_type": "code",
   "execution_count": 21,
   "id": "8d3ddc9d",
   "metadata": {},
   "outputs": [
    {
     "data": {
      "text/plain": [
       "200"
      ]
     },
     "execution_count": 21,
     "metadata": {},
     "output_type": "execute_result"
    }
   ],
   "source": [
    "response.status_code"
   ]
  },
  {
   "cell_type": "code",
   "execution_count": 25,
   "id": "2eac2961",
   "metadata": {},
   "outputs": [],
   "source": [
    "soup = bs(response.text)"
   ]
  },
  {
   "cell_type": "code",
   "execution_count": 49,
   "id": "a88364e1",
   "metadata": {},
   "outputs": [],
   "source": [
    "table = soup.find(class_ = \"field field--name-field-formatted-text field--type-text-long field--label-hidden field__item\")"
   ]
  },
  {
   "cell_type": "code",
   "execution_count": 97,
   "id": "32974824",
   "metadata": {},
   "outputs": [],
   "source": [
    "rows = table.find_all('tr')"
   ]
  },
  {
   "cell_type": "code",
   "execution_count": 126,
   "id": "eb3bec5e",
   "metadata": {},
   "outputs": [
    {
     "data": {
      "text/plain": [
       "[{'address': '3335 Airport Rd', 'num_plugs': '2', 'free': True},\n",
       " {'address': '2667 Broadway', 'num_plugs': '2', 'free': True},\n",
       " {'address': '7315 Red Deer Dr', 'num_plugs': '2', 'free': True},\n",
       " {'address': '1770 13th St', 'num_plugs': '2', 'free': True},\n",
       " {'address': '600 Baseline Rd', 'num_plugs': '2', 'free': False},\n",
       " {'address': '1505 30th St', 'num_plugs': '4', 'free': True},\n",
       " {'address': '5660 Sioux Dr', 'num_plugs': '2', 'free': True},\n",
       " {'address': '3172 Broadway', 'num_plugs': '2', 'free': True},\n",
       " {'address': '1360 Gillaspie Dr', 'num_plugs': '2', 'free': True},\n",
       " {'address': '5565 51st St', 'num_plugs': '2', 'free': True},\n",
       " {'address': '5333 Valmont Rd', 'num_plugs': '4', 'free': True},\n",
       " {'address': '900 Walnut St', 'num_plugs': '4', 'free': False},\n",
       " {'address': '1104 Spruce', 'num_plugs': '2', 'free': False},\n",
       " {'address': '1100 Walnut St', 'num_plugs': '2', 'free': False},\n",
       " {'address': '1400 Walnut Parking Garage', 'num_plugs': '2', 'free': False},\n",
       " {'address': '1500 Pearl St', 'num_plugs': '4', 'free': False},\n",
       " {'address': '2240 Broadway', 'num_plugs': '2', 'free': False}]"
      ]
     },
     "execution_count": 126,
     "metadata": {},
     "output_type": "execute_result"
    }
   ],
   "source": [
    "station_info = []\n",
    "for row in rows[1:18]:\n",
    "    address = row.text.split('\\n')[2]\n",
    "    num_plugs = row.text.split('\\n')[3]\n",
    "    free = (row.text.split('\\n')[4]=='Free')\n",
    "    info_dict = {'address' : address, 'num_plugs' : num_plugs, 'free' : free}\n",
    "    station_info.append(info_dict)"
   ]
  },
  {
   "cell_type": "code",
   "execution_count": 127,
   "id": "199a901d",
   "metadata": {},
   "outputs": [
    {
     "data": {
      "text/html": [
       "<div>\n",
       "<style scoped>\n",
       "    .dataframe tbody tr th:only-of-type {\n",
       "        vertical-align: middle;\n",
       "    }\n",
       "\n",
       "    .dataframe tbody tr th {\n",
       "        vertical-align: top;\n",
       "    }\n",
       "\n",
       "    .dataframe thead th {\n",
       "        text-align: right;\n",
       "    }\n",
       "</style>\n",
       "<table border=\"1\" class=\"dataframe\">\n",
       "  <thead>\n",
       "    <tr style=\"text-align: right;\">\n",
       "      <th></th>\n",
       "      <th>address</th>\n",
       "      <th>num_plugs</th>\n",
       "      <th>free</th>\n",
       "    </tr>\n",
       "  </thead>\n",
       "  <tbody>\n",
       "    <tr>\n",
       "      <th>0</th>\n",
       "      <td>3335 Airport Rd</td>\n",
       "      <td>2</td>\n",
       "      <td>True</td>\n",
       "    </tr>\n",
       "    <tr>\n",
       "      <th>1</th>\n",
       "      <td>2667 Broadway</td>\n",
       "      <td>2</td>\n",
       "      <td>True</td>\n",
       "    </tr>\n",
       "    <tr>\n",
       "      <th>2</th>\n",
       "      <td>7315 Red Deer Dr</td>\n",
       "      <td>2</td>\n",
       "      <td>True</td>\n",
       "    </tr>\n",
       "    <tr>\n",
       "      <th>3</th>\n",
       "      <td>1770 13th St</td>\n",
       "      <td>2</td>\n",
       "      <td>True</td>\n",
       "    </tr>\n",
       "    <tr>\n",
       "      <th>4</th>\n",
       "      <td>600 Baseline Rd</td>\n",
       "      <td>2</td>\n",
       "      <td>False</td>\n",
       "    </tr>\n",
       "    <tr>\n",
       "      <th>5</th>\n",
       "      <td>1505 30th St</td>\n",
       "      <td>4</td>\n",
       "      <td>True</td>\n",
       "    </tr>\n",
       "    <tr>\n",
       "      <th>6</th>\n",
       "      <td>5660 Sioux Dr</td>\n",
       "      <td>2</td>\n",
       "      <td>True</td>\n",
       "    </tr>\n",
       "    <tr>\n",
       "      <th>7</th>\n",
       "      <td>3172 Broadway</td>\n",
       "      <td>2</td>\n",
       "      <td>True</td>\n",
       "    </tr>\n",
       "    <tr>\n",
       "      <th>8</th>\n",
       "      <td>1360 Gillaspie Dr</td>\n",
       "      <td>2</td>\n",
       "      <td>True</td>\n",
       "    </tr>\n",
       "    <tr>\n",
       "      <th>9</th>\n",
       "      <td>5565 51st St</td>\n",
       "      <td>2</td>\n",
       "      <td>True</td>\n",
       "    </tr>\n",
       "    <tr>\n",
       "      <th>10</th>\n",
       "      <td>5333 Valmont Rd</td>\n",
       "      <td>4</td>\n",
       "      <td>True</td>\n",
       "    </tr>\n",
       "    <tr>\n",
       "      <th>11</th>\n",
       "      <td>900 Walnut St</td>\n",
       "      <td>4</td>\n",
       "      <td>False</td>\n",
       "    </tr>\n",
       "    <tr>\n",
       "      <th>12</th>\n",
       "      <td>1104 Spruce</td>\n",
       "      <td>2</td>\n",
       "      <td>False</td>\n",
       "    </tr>\n",
       "    <tr>\n",
       "      <th>13</th>\n",
       "      <td>1100 Walnut St</td>\n",
       "      <td>2</td>\n",
       "      <td>False</td>\n",
       "    </tr>\n",
       "    <tr>\n",
       "      <th>14</th>\n",
       "      <td>1400 Walnut Parking Garage</td>\n",
       "      <td>2</td>\n",
       "      <td>False</td>\n",
       "    </tr>\n",
       "    <tr>\n",
       "      <th>15</th>\n",
       "      <td>1500 Pearl St</td>\n",
       "      <td>4</td>\n",
       "      <td>False</td>\n",
       "    </tr>\n",
       "    <tr>\n",
       "      <th>16</th>\n",
       "      <td>2240 Broadway</td>\n",
       "      <td>2</td>\n",
       "      <td>False</td>\n",
       "    </tr>\n",
       "  </tbody>\n",
       "</table>\n",
       "</div>"
      ],
      "text/plain": [
       "                       address num_plugs   free\n",
       "0              3335 Airport Rd         2   True\n",
       "1                2667 Broadway         2   True\n",
       "2             7315 Red Deer Dr         2   True\n",
       "3                 1770 13th St         2   True\n",
       "4              600 Baseline Rd         2  False\n",
       "5                 1505 30th St         4   True\n",
       "6                5660 Sioux Dr         2   True\n",
       "7                3172 Broadway         2   True\n",
       "8            1360 Gillaspie Dr         2   True\n",
       "9                 5565 51st St         2   True\n",
       "10             5333 Valmont Rd         4   True\n",
       "11               900 Walnut St         4  False\n",
       "12                 1104 Spruce         2  False\n",
       "13              1100 Walnut St         2  False\n",
       "14  1400 Walnut Parking Garage         2  False\n",
       "15               1500 Pearl St         4  False\n",
       "16               2240 Broadway         2  False"
      ]
     },
     "execution_count": 127,
     "metadata": {},
     "output_type": "execute_result"
    }
   ],
   "source": [
    "station_info_df = pd.DataFrame(station_info)\n",
    "station_info_df"
   ]
  },
  {
   "cell_type": "code",
   "execution_count": 133,
   "id": "3c00dd60",
   "metadata": {},
   "outputs": [
    {
     "name": "stdout",
     "output_type": "stream",
     "text": [
      "3335 Airport Rd in df? True\n",
      "2667 Broadway in df? True\n",
      "7315 Red Deer Dr in df? True\n",
      "1770 13th St in df? True\n",
      "600 Baseline Rd in df? True\n",
      "1505 30th St in df? True\n",
      "5660 Sioux Dr in df? True\n",
      "3172 Broadway in df? True\n",
      "1360 Gillaspie Dr in df? True\n",
      "5565 51st St in df? True\n",
      "5333 Valmont Rd in df? False\n",
      "900 Walnut St in df? True\n",
      "1104 Spruce in df? False\n",
      "1100 Walnut St in df? False\n",
      "1400 Walnut Parking Garage in df? False\n",
      "1500 Pearl St in df? True\n",
      "2240 Broadway in df? True\n"
     ]
    }
   ],
   "source": [
    "for each in station_info_df.address:\n",
    "    print(f\"{each} in df? {each in df.Address.unique()}\") "
   ]
  },
  {
   "cell_type": "code",
   "execution_count": 134,
   "id": "9ac629cc",
   "metadata": {},
   "outputs": [
    {
     "data": {
      "text/plain": [
       "array(['2280 Junction Pl', '1275 Alpine Ave', '900 Baseline Rd',\n",
       "       '1745 14th street', '1500 Pearl St', '1770 13th St',\n",
       "       '900 Walnut St', '1100 Spruce St', '1360 Gillaspie Dr',\n",
       "       '1400 Walnut St', '1100 Walnut', '2052 Junction Pl',\n",
       "       '7315 Red Deer Dr', '3172 Broadway', '1739 Broadway',\n",
       "       '2150 13th St', '5660 Sioux Dr', '5565 51st St', '1505 30th St',\n",
       "       '3335 Airport Rd', '600 Baseline Rd', '5050 Pearl St',\n",
       "       '2667 Broadway', '2240 Broadway'], dtype=object)"
      ]
     },
     "execution_count": 134,
     "metadata": {},
     "output_type": "execute_result"
    }
   ],
   "source": [
    "df.Address.unique()"
   ]
  },
  {
   "cell_type": "code",
   "execution_count": 180,
   "id": "f91e1f40",
   "metadata": {},
   "outputs": [],
   "source": [
    "station_info_df.to_csv('data/station_info.csv')"
   ]
  }
 ],
 "metadata": {
  "kernelspec": {
   "display_name": "Python [conda env:metis] *",
   "language": "python",
   "name": "conda-env-metis-py"
  },
  "language_info": {
   "codemirror_mode": {
    "name": "ipython",
    "version": 3
   },
   "file_extension": ".py",
   "mimetype": "text/x-python",
   "name": "python",
   "nbconvert_exporter": "python",
   "pygments_lexer": "ipython3",
   "version": "3.9.10"
  }
 },
 "nbformat": 4,
 "nbformat_minor": 5
}
